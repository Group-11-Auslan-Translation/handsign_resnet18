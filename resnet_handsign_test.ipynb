{
 "cells": [
  {
   "cell_type": "markdown",
   "id": "0180247f-9f46-46d2-903e-52b7edf3dcf7",
   "metadata": {},
   "source": [
    "# Testing on the test set from Auslan Dataset\n",
    "# Importing Required Libraries\n",
    "\n",
    "In this section, we import the necessary libraries for:\n",
    "- **Model building**: `torch`, `torch.nn`, `torchvision.models`\n",
    "- **Data transformations**: `torchvision.transforms`\n",
    "- **Image loading and preprocessing**: `PIL.Image`\n",
    "- **Argument parsing** (though in Jupyter, we won't use command-line arguments directly)\n"
   ]
  },
  {
   "cell_type": "code",
   "execution_count": null,
   "id": "7684627b-1c58-4bf0-8d0f-add70d484926",
   "metadata": {},
   "outputs": [],
   "source": [
    "import os\n",
    "import torch\n",
    "import torch.nn as nn\n",
    "from torchvision import transforms, models\n",
    "from PIL import Image\n",
    "import wandb\n",
    "from sklearn.metrics import classification_report, confusion_matrix\n",
    "from tqdm import tqdm"
   ]
  },
  {
   "cell_type": "code",
   "execution_count": null,
   "id": "590203f9-d42a-4387-9cd5-44a32020c48c",
   "metadata": {},
   "outputs": [],
   "source": [
    "# Initialize W&B for the testing phase\n",
    "wandb.init(project=\"auslan-handsign-classification\", entity=\"srk_2024-the-australian-national-university\", job_type=\"test\")\n"
   ]
  },
  {
   "cell_type": "markdown",
   "id": "1fe7cec5-e151-4325-8065-bf2af69c3bb7",
   "metadata": {},
   "source": [
    "# Image Transformations\n",
    "\n",
    "We define the same transformations used during validation/testing:\n",
    "- **Grayscale conversion**: Convert the images to 1-channel grayscale format.\n",
    "- **Resize**: Resize the images to 224x224 pixels to match the input size required by ResNet.\n",
    "- **ToTensor**: Convert the image to a PyTorch tensor.\n",
    "- **Normalization**: Normalize the pixel values to [0, 1] range using mean and standard deviation specific for grayscale images.\n"
   ]
  },
  {
   "cell_type": "code",
   "execution_count": null,
   "id": "87f1dea2-0aa2-4d2c-9545-fb8010a87a70",
   "metadata": {},
   "outputs": [],
   "source": [
    "# Define the same transformations used for validation/testing\n",
    "test_transforms = transforms.Compose([\n",
    "    transforms.Grayscale(num_output_channels=1),  # Convert images to grayscale\n",
    "    transforms.Resize((224, 224)),  # Resize to match the input size of ResNet\n",
    "    transforms.ToTensor(),  # Convert to tensor\n",
    "    transforms.Normalize([0.5], [0.5])  # Normalize for grayscale (1 channel)\n",
    "])"
   ]
  },
  {
   "cell_type": "markdown",
   "id": "2a452143-7ed5-4e15-9fe8-562f5beb2235",
   "metadata": {},
   "source": [
    "# Helper Functions to Load and Preprocess Images\n",
    "\n",
    "1. **load_image**: This function loads a single image from the file path, applies the necessary transformations, and prepares it for model inference.\n",
    "2. **get_label_from_folder**: Maps folder names to the corresponding class labels. For example, digits (0-9) and letters (A-Z) are mapped to appropriate class indices (0-35).\n"
   ]
  },
  {
   "cell_type": "code",
   "execution_count": null,
   "id": "c4d3525d-8efc-4a52-9b93-8099eb70ec02",
   "metadata": {},
   "outputs": [],
   "source": [
    "# Function to load a single image and apply transformations\n",
    "def load_image(image_path, transform):\n",
    "    image = Image.open(image_path).convert('RGB')  # Convert to RGB first\n",
    "    return transform(image).unsqueeze(0)  # Apply transformations and add batch dimension\n",
    "\n",
    "# Function to map folder names to class labels\n",
    "def get_label_from_folder(folder_name):\n",
    "    if folder_name.isdigit():  # For digits (0-9)\n",
    "        return int(folder_name)\n",
    "    elif len(folder_name) == 1 and folder_name.isalpha():  # For letters (A-Z)\n",
    "        return ord(folder_name.upper()) - ord('A') + 10  # Map A-Z to 10-35\n",
    "    else:\n",
    "        raise ValueError(f\"Unexpected folder name format: {folder_name}\")\n"
   ]
  },
  {
   "cell_type": "markdown",
   "id": "8335ea9c-4b35-42f8-959f-0587dcbef079",
   "metadata": {},
   "source": [
    "# Testing the Model on the Test Dataset\n",
    "\n",
    "This function tests the model on a directory of test images:\n",
    "- **test_model_on_directory**: This function iterates over the test dataset, loading images, applying transformations, and predicting the class label for each image.\n",
    "- The accuracy is calculated by comparing predicted labels with true labels from the folder names.\n"
   ]
  },
  {
   "cell_type": "code",
   "execution_count": null,
   "id": "44d56ff7-8495-49ac-b8f2-e7b114ddbb67",
   "metadata": {},
   "outputs": [],
   "source": [
    "def test_model_on_directory(test_dir, model, device, transform):\n",
    "    model.eval()  # Set the model to evaluation mode\n",
    "    correct_predictions = 0\n",
    "    total_images = 0\n",
    "    y_true = []\n",
    "    y_pred = []\n",
    "\n",
    "    # Get the total number of images for the progress bar\n",
    "    total_images_to_process = sum(len(files) for _, _, files in os.walk(test_dir) if files)\n",
    "    \n",
    "    # Initialize progress bar\n",
    "    with tqdm(total=total_images_to_process, desc=\"Testing Progress\") as pbar:\n",
    "        # Iterate through each class folder in the test directory\n",
    "        for class_folder in os.listdir(test_dir):\n",
    "            class_folder_path = os.path.join(test_dir, class_folder)\n",
    "            if not os.path.isdir(class_folder_path):\n",
    "                continue  # Skip non-directory files\n",
    "\n",
    "            true_label = get_label_from_folder(class_folder)  # Get the label from folder name\n",
    "\n",
    "            # Iterate through images in the class folder\n",
    "            for image_file in os.listdir(class_folder_path):\n",
    "                image_path = os.path.join(class_folder_path, image_file)\n",
    "                if image_file.lower().endswith(('.png', '.jpg', '.jpeg')):\n",
    "                    # Load and preprocess the image\n",
    "                    image_tensor = load_image(image_path, transform).to(device)\n",
    "\n",
    "                    # Perform inference\n",
    "                    with torch.no_grad():\n",
    "                        outputs = model(image_tensor)\n",
    "                        _, predicted_label = torch.max(outputs, 1)\n",
    "\n",
    "                    # Collect predictions and true labels\n",
    "                    y_pred.append(predicted_label.item())\n",
    "                    y_true.append(true_label)\n",
    "\n",
    "                    # Update the correct prediction count\n",
    "                    if predicted_label.item() == true_label:\n",
    "                        correct_predictions += 1\n",
    "                    total_images += 1\n",
    "\n",
    "                    # Update progress bar\n",
    "                    pbar.update(1)\n",
    "\n",
    "            # Log progress after each class folder is processed\n",
    "            if total_images > 0:\n",
    "                accuracy = (correct_predictions / total_images) * 100\n",
    "                classification_report_dict = classification_report(y_true, y_pred, output_dict=True)\n",
    "                \n",
    "                # Log progress to W&B after each class folder\n",
    "                wandb.log({\n",
    "                    \"test_accuracy_progress\": accuracy,\n",
    "                    \"precision_progress\": classification_report_dict[\"macro avg\"][\"precision\"],\n",
    "                    \"recall_progress\": classification_report_dict[\"macro avg\"][\"recall\"],\n",
    "                    \"f1-score_progress\": classification_report_dict[\"macro avg\"][\"f1-score\"],\n",
    "                })\n",
    "\n",
    "    # Final overall accuracy calculation\n",
    "    accuracy = (correct_predictions / total_images) * 100 if total_images > 0 else 0\n",
    "\n",
    "    # Log final classification metrics\n",
    "    classification_report_dict = classification_report(y_true, y_pred, output_dict=True)\n",
    "    wandb.log({\n",
    "        \"final_test_accuracy\": accuracy,\n",
    "        \"precision\": classification_report_dict[\"macro avg\"][\"precision\"],\n",
    "        \"recall\": classification_report_dict[\"macro avg\"][\"recall\"],\n",
    "        \"f1-score\": classification_report_dict[\"macro avg\"][\"f1-score\"],\n",
    "        \"test_accuracy_wandb\": classification_report_dict[\"accuracy\"]\n",
    "    })\n",
    "\n",
    "    # Log confusion matrix after all predictions\n",
    "    wandb.log({\"confusion_matrix\": wandb.plot.confusion_matrix(probs=None,\n",
    "                                                               y_true=y_true,\n",
    "                                                               preds=y_pred,\n",
    "                                                               class_names=[str(i) for i in range(36)])})\n",
    "\n",
    "    # Print the final test accuracy\n",
    "    print(f\"Test Accuracy: {accuracy:.2f}% ({correct_predictions}/{total_images} correct predictions)\")\n",
    "\n",
    "    return accuracy\n"
   ]
  },
  {
   "cell_type": "markdown",
   "id": "4e4a5e56-9719-4fbc-8e1d-a32bd83f4459",
   "metadata": {},
   "source": [
    "# Model Setup and Loading Weights\n",
    "\n",
    "1. **Model Architecture**: We load a ResNet-18 model and modify it to accept 1-channel grayscale images by adjusting the `conv1` layer.\n",
    "2. **Load Model Weights**: The pre-trained model weights are loaded from the specified path (`resnet18_handsign_final.pth`).\n"
   ]
  },
  {
   "cell_type": "code",
   "execution_count": null,
   "id": "5b55560d-6d9d-4ac4-8fd9-acfee8cde402",
   "metadata": {},
   "outputs": [],
   "source": [
    "# Set the device (GPU or CPU)\n",
    "device = torch.device(\"cuda\" if torch.cuda.is_available() else \"cpu\")\n",
    "\n",
    "# Load the ResNet-18 model without pretrained weights\n",
    "model = models.resnet18(weights=None)  # Set pretrained=False to avoid loading any pre-trained weights\n",
    "model.conv1 = nn.Conv2d(1, 64, kernel_size=7, stride=2, padding=3, bias=False)  # Adjust input layer for grayscale\n",
    "num_classes = 36\n",
    "model.fc = nn.Sequential(\n",
    "    nn.Dropout(0.5),\n",
    "    nn.Linear(model.fc.in_features, 256),\n",
    "    nn.ReLU(),\n",
    "    nn.Dropout(0.5),\n",
    "    nn.Linear(256, num_classes)\n",
    ")\n",
    "\n",
    "# Load the trained model weights\n",
    "model.load_state_dict(torch.load('resnet18_handsign_final.pth', map_location=device))  # Load weights\n",
    "model = model.to(device)\n"
   ]
  },
  {
   "cell_type": "markdown",
   "id": "1bb8797d-9c23-4663-848b-4d4dc7bd0fe5",
   "metadata": {},
   "source": [
    "# Testing the Model\n",
    "\n",
    "Now that the model is loaded and the test dataset is ready, we can test the model's performance by running `test_model_on_directory`.\n",
    "The function will print the test accuracy and the number of correct predictions.\n"
   ]
  },
  {
   "cell_type": "code",
   "execution_count": null,
   "id": "dbcac252-0568-4e76-8993-8fe1b1a3a075",
   "metadata": {},
   "outputs": [],
   "source": [
    "# Test the model on the test dataset\n",
    "test_dir = r\"C:\\Users\\zed20\\Documents\\Auslan_dataset\\dataset_split\\test\"\n",
    "test_model_on_directory(test_dir, model, device, test_transforms)\n",
    "\n",
    "wandb.finish()"
   ]
  }
 ],
 "metadata": {
  "kernelspec": {
   "display_name": "Python 3 (ipykernel)",
   "language": "python",
   "name": "python3"
  },
  "language_info": {
   "codemirror_mode": {
    "name": "ipython",
    "version": 3
   },
   "file_extension": ".py",
   "mimetype": "text/x-python",
   "name": "python",
   "nbconvert_exporter": "python",
   "pygments_lexer": "ipython3",
   "version": "3.10.14"
  }
 },
 "nbformat": 4,
 "nbformat_minor": 5
}
